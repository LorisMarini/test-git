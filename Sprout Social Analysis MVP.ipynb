{
 "cells": [
  {
   "cell_type": "code",
   "execution_count": 9,
   "id": "14dfef50",
   "metadata": {},
   "outputs": [
    {
     "data": {
      "text/html": [
       "<style>.container { width:85% !important; }</style>"
      ],
      "text/plain": [
       "<IPython.core.display.HTML object>"
      ]
     },
     "metadata": {},
     "output_type": "display_data"
    }
   ],
   "source": [
    "import os\n",
    "import pandas as pd\n",
    "import numpy as np\n",
    "from sklearn.metrics import mean_squared_error\n",
    "from scipy.optimize import curve_fit\n",
    "from scipy.optimize import fsolve\n",
    "import matplotlib.pyplot as plt\n",
    "from IPython.core.interactiveshell import InteractiveShell\n",
    "import warnings\n",
    "from IPython.core.display import display, HTML\n",
    "\n",
    "import seaborn as sns \n",
    "import plotly.express as px\n",
    "\n",
    "%matplotlib inline\n",
    "warnings.filterwarnings('ignore')\n",
    "display(HTML(\"<style>.container { width:85% !important; }</style>\"))\n",
    "InteractiveShell.ast_node_interactivity = \"all\"\n",
    "\n",
    "pd.set_option('max_colwidth', 100)\n",
    "pd.set_option(\"display.max_columns\", 200)\n",
    "pd.set_option(\"display.max_rows\", 10000)\n",
    "\n",
    "# pd.reset_option('display.float_format')\n",
    "pd.set_option('display.float_format', lambda x: '%.3f' % x)\n",
    "\n",
    "%config InlineBackend.figure_format = 'retina'"
   ]
  },
  {
   "cell_type": "code",
   "execution_count": 107,
   "id": "96ea2c72",
   "metadata": {},
   "outputs": [],
   "source": [
    "data = pd.read_csv(\"./sprout-data.csv\")\n",
    "\n",
    "#Lowercase textual data\n",
    "to_lowercase = [\"Network\",\"Post\",\"Tags\",\"Content Type\",\"Post Type\", \"Profile\",\"Sent by\"]\n",
    "for c in to_lowercase:\n",
    "    data[c] = data[c].str.lower()\n",
    "    \n",
    "#drop na\n",
    "data = data.fillna(value=0)\n",
    "\n",
    "#infer data types\n",
    "data = data.infer_objects()\n",
    "\n",
    "#Remove all commas\n",
    "data.replace(to_replace=\",\",value=\"\", inplace=True)\n",
    "\n",
    "for c in [\"Video Views\", \"Potential Reach\"]:\n",
    "    \n",
    "    data[c] = data[c].str.replace(\",\",\"\")\n",
    "    data[c]  =data[c].astype(float)\n",
    "\n",
    "# select data you need\n",
    "data = data[['Date', 'Post ID', 'Network', 'Post Type', 'Content Type', 'Profile',\n",
    "               'Sent by', 'Link', 'Post', 'Impressions',\n",
    "               'Organic Impressions', 'Paid Impressions', 'Reach', 'Organic Reach',\n",
    "               'Paid Reach', 'Potential Reach','Engagement Rate (per Impression)',\n",
    "               'Engagements', 'Reactions', 'Likes', 'Dislikes', 'Video Views', \n",
    "               'Organic Video Views', 'Paid Video Views','Partial Video Views', \n",
    "               'Organic Partial Video Views','Paid Partial Video Views', 'Full Video Views',\n",
    "               'Organic Full Video Views', 'Paid Full Video Views']]"
   ]
  },
  {
   "cell_type": "markdown",
   "id": "105d3c14",
   "metadata": {},
   "source": [
    "# Analysis"
   ]
  },
  {
   "cell_type": "code",
   "execution_count": 93,
   "id": "3d6aa8b2",
   "metadata": {},
   "outputs": [],
   "source": [
    "guest_name = \"salma\""
   ]
  },
  {
   "cell_type": "code",
   "execution_count": 106,
   "id": "3c07bf33",
   "metadata": {},
   "outputs": [
    {
     "name": "stdout",
     "output_type": "stream",
     "text": [
      "\n",
      "X-CHANNEL REPORT FOR salma:\n",
      "\n",
      "\n",
      "youtube\n",
      "\n",
      "posts = 21\n",
      "views = 629.0\n",
      "\n",
      "instagram\n",
      "\n",
      "posts = 23\n",
      "views = 1420.0\n",
      "\n",
      "linkedin\n",
      "\n",
      "posts = 23\n",
      "views = 298.0\n",
      "\n",
      "tiktok\n",
      "\n",
      "posts = 22\n",
      "views = 2919.0\n",
      "\n",
      "twitter\n",
      "\n",
      "posts = 22\n",
      "views = 342.0\n",
      "\n",
      "facebook\n",
      "\n",
      "posts = 23\n",
      "views = 29.0\n",
      "\n",
      "TOT X-Channel Views = 5637.0\n"
     ]
    }
   ],
   "source": [
    "print(f\"\\nX-CHANNEL REPORT FOR {guest_name}:\\n\")\n",
    "\n",
    "# Find guest\n",
    "g = data[data.Post.str.contains(guest_name).fillna(value=False)]\n",
    "\n",
    "tot_views = 0\n",
    "\n",
    "networks=data.Network.unique()\n",
    "\n",
    "for n in networks:\n",
    "    \n",
    "    this_network = g[g[\"Network\"]==n]\n",
    "    \n",
    "    views = this_network[\"Video Views\"].sum()\n",
    "    posts = this_network[\"Video Views\"].count()\n",
    "    \n",
    "    tot_views +=views\n",
    "    \n",
    "    print(f\"\\n{n}\\n\")\n",
    "    print(f\"posts = {posts}\")\n",
    "    print(f\"views = {views}\")\n",
    "    \n",
    "print(f\"\\nTOT X-Channel Views = {tot_views}\")"
   ]
  }
 ],
 "metadata": {
  "kernelspec": {
   "display_name": "Python 3 (ipykernel)",
   "language": "python",
   "name": "python3"
  },
  "language_info": {
   "codemirror_mode": {
    "name": "ipython",
    "version": 3
   },
   "file_extension": ".py",
   "mimetype": "text/x-python",
   "name": "python",
   "nbconvert_exporter": "python",
   "pygments_lexer": "ipython3",
   "version": "3.9.13"
  }
 },
 "nbformat": 4,
 "nbformat_minor": 5
}
